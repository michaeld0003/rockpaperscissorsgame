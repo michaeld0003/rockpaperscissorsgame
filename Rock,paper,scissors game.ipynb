{
 "cells": [
  {
   "cell_type": "code",
   "execution_count": 1,
   "metadata": {},
   "outputs": [
    {
     "name": "stdout",
     "output_type": "stream",
     "text": [
      "player: rock\n",
      "computer chose: rock\n",
      "Its a tie try again: \n",
      "player: paper\n",
      "computer chose: paper\n",
      "Its a tie try again: \n",
      "player: paper\n",
      "computer chose: paper\n",
      "Its a tie try again: \n",
      "player: paper\n",
      "computer chose: paper\n",
      "Its a tie try again: \n",
      "Bye\n"
     ]
    }
   ],
   "source": [
    "#creating a basic game of rock paper scissors in python\n",
    "\n",
    "import random #imports the random module\n",
    "\n",
    "while True:\n",
    "    choices=[\"rock\",\"paper\",\"scissors\"]\n",
    "\n",
    "    computer=random.choice(choices)\n",
    "    player=None #no value\n",
    "\n",
    "    while player not in choices:\n",
    "        player=input(\"rock, paper or scissors?\").lower() #this is to make all input in lower\n",
    "    if player==computer:\n",
    "        print(\"player: \"+ player)\n",
    "        print(\"computer chose: \"+computer)\n",
    "        print(\"Its a tie try again: \")\n",
    "    elif player==\"rock\":\n",
    "        if computer==\"paper\":\n",
    "            print(\"player: \"+ player)\n",
    "            print(\"computer chose: \"+computer)\n",
    "            print(\"You lose: \")\n",
    "    elif player==\"rock\":\n",
    "        if computer==\"scissors\":\n",
    "            print(\"player: \"+ player)\n",
    "            print(\"computer chose: \"+computer)\n",
    "            print(\"You win: \")\n",
    "    elif player==\"scissors\":\n",
    "        if computer==\"paper\":\n",
    "            print(\"player: \"+ player)\n",
    "            print(\"computer chose: \"+computer)\n",
    "            print(\"You win: \")\n",
    "    elif player==\"scissors\":\n",
    "        if computer==\"rock\":\n",
    "            print(\"player: \"+ player)\n",
    "            print(\"computer chose: \"+computer)\n",
    "            print(\"You lose: \")\n",
    "    elif player==\"paper\":\n",
    "        if computer==\"rock\":\n",
    "            print(\"player: \"+ player)\n",
    "            print(\"computer chose: \"+computer)\n",
    "            print(\"You win: \")\n",
    "    elif player==\"paper\":\n",
    "        if computer==\"scissors\":\n",
    "            print(\"player: \"+ player)\n",
    "            print(\"computer chose: \"+computer)\n",
    "            print(\"You lose: \")\n",
    "    play_again=input(\"Do you want to play again? (yes/no): \").lower()\n",
    "    if play_again!=\"yes\":\n",
    "        break\n",
    "print(\"Bye\")\n"
   ]
  }
 ],
 "metadata": {
  "kernelspec": {
   "display_name": "Python 3",
   "language": "python",
   "name": "python3"
  },
  "language_info": {
   "codemirror_mode": {
    "name": "ipython",
    "version": 3
   },
   "file_extension": ".py",
   "mimetype": "text/x-python",
   "name": "python",
   "nbconvert_exporter": "python",
   "pygments_lexer": "ipython3",
   "version": "3.10.7"
  },
  "orig_nbformat": 4,
  "vscode": {
   "interpreter": {
    "hash": "aee8b7b246df8f9039afb4144a1f6fd8d2ca17a180786b69acc140d282b71a49"
   }
  }
 },
 "nbformat": 4,
 "nbformat_minor": 2
}
